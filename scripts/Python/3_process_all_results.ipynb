{
 "cells": [
  {
   "cell_type": "markdown",
   "id": "b14cc0d5",
   "metadata": {},
   "source": [
    "# Imports"
   ]
  },
  {
   "cell_type": "code",
   "execution_count": null,
   "id": "dd378b32-03bb-4210-88c8-e78738b70bac",
   "metadata": {},
   "outputs": [],
   "source": [
    "from sklearn.metrics import roc_auc_score, log_loss\n",
    "import pandas as pd\n",
    "import numpy as np, glob\n",
    "import pickle\n",
    "import os"
   ]
  },
  {
   "cell_type": "markdown",
   "id": "477c8e17",
   "metadata": {},
   "source": [
    "# Non-parametric bootstrap"
   ]
  },
  {
   "cell_type": "code",
   "execution_count": null,
   "id": "c6883eab-ae62-4224-80b8-9e3e97ee1846",
   "metadata": {},
   "outputs": [],
   "source": [
    "from tqdm.notebook import tqdm, trange\n",
    "\n",
    "def bootstrap_stat(Y_true,Y_pred):\n",
    "    np.random.seed(42)\n",
    "    idxs=[np.arange(len(y_true)) for y_true in Y_true]\n",
    "    aucs_final,logloss_final=[],[]\n",
    "    for i in trange(1000,desc='bootstrap'):\n",
    "        aucs=[]\n",
    "        log_losses=[]\n",
    "        idxs_new=[np.random.choice(idx,len(idx),replace=True) for idx in idxs]\n",
    "        for idx,y_true,y_pred in zip(idxs_new,Y_true,Y_pred):\n",
    "            y_true,y_pred=y_true[idx],y_pred[idx]\n",
    "            aucs.append(roc_auc_score(y_true,y_pred))\n",
    "            log_losses.append(log_loss(y_true,y_pred))\n",
    "        aucs_final.append(np.mean(aucs))\n",
    "        logloss_final.append(np.mean(log_losses))\n",
    "    aucs=[]\n",
    "    log_losses=[]\n",
    "    for y_true,y_pred in zip(Y_true,Y_pred):\n",
    "        aucs.append(roc_auc_score(y_true,y_pred))\n",
    "        log_losses.append(log_loss(y_true,y_pred))\n",
    "    return np.mean(aucs),np.mean(log_losses),aucs_final,logloss_final\n",
    "        \n",
    "boot_res=dict()\n",
    "for f in tqdm(glob.glob(\"../../results/*.pkl\"),desc=\"algo\"):\n",
    "    if f not in list(boot_res.keys()): boot_res[f]=dict()\n",
    "    res_=pd.read_pickle(f)\n",
    "    for k in tqdm(list(res_.keys()),desc=\"type\", position=1, leave=True):\n",
    "        Y_true=[np.array(res_[k][i]['y_true']) for i in (range(1,11) if isinstance(res_[k],dict) else range(10))]\n",
    "        Y_pred=[np.array(res_[k][i]['y_pred']) for i in (range(1,11) if isinstance(res_[k],dict) else range(10))]\n",
    "        if k not in list(boot_res[f].keys()): boot_res[f][k]=bootstrap_stat(Y_true,Y_pred)"
   ]
  },
  {
   "cell_type": "code",
   "execution_count": null,
   "id": "f4724f5a-415c-4294-b7e1-93eda09bab96",
   "metadata": {},
   "outputs": [],
   "source": [
    "pickle.dump(boot_res,open('../../bootstrap_results.pkl','wb'))"
   ]
  },
  {
   "cell_type": "markdown",
   "id": "65d1f386",
   "metadata": {},
   "source": [
    "# Display Results"
   ]
  },
  {
   "cell_type": "code",
   "execution_count": null,
   "id": "3be7bd26",
   "metadata": {},
   "outputs": [],
   "source": [
    "boot_res2={os.path.basename(k).replace(\".pkl\",\"\"):{k2:round(pd.Series([v2[0],np.std(v2[2]),v2[1],np.std(v2[3])]),3).values for k2,v2 in v.items()} for k,v in boot_res.items()}"
   ]
  },
  {
   "cell_type": "code",
   "execution_count": null,
   "id": "973b8cb4",
   "metadata": {},
   "outputs": [],
   "source": [
    "pd.DataFrame(boot_res2).applymap(lambda x: f\"{x[0]}±{x[1]}\" if str(x)!=\"nan\" else \"\")"
   ]
  },
  {
   "cell_type": "code",
   "execution_count": null,
   "id": "e1ac46cb",
   "metadata": {},
   "outputs": [],
   "source": [
    "pd.DataFrame(boot_res2).applymap(lambda x: f\"{x[2]}±{x[3]}\" if str(x)!=\"nan\" else \"\")"
   ]
  }
 ],
 "metadata": {
  "kernelspec": {
   "display_name": "py37_2",
   "language": "python",
   "name": "py37_2"
  },
  "language_info": {
   "codemirror_mode": {
    "name": "ipython",
    "version": 3
   },
   "file_extension": ".py",
   "mimetype": "text/x-python",
   "name": "python",
   "nbconvert_exporter": "python",
   "pygments_lexer": "ipython3",
   "version": "3.7.10"
  }
 },
 "nbformat": 4,
 "nbformat_minor": 5
}
